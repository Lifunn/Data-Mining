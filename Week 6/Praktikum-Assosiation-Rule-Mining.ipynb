{
 "cells": [
  {
   "cell_type": "code",
   "execution_count": 93,
   "id": "1520ec18-9907-40ca-b561-0b1f985eab04",
   "metadata": {},
   "outputs": [
    {
     "name": "stderr",
     "output_type": "stream",
     "text": [
      "C:\\Users\\Lenovo\\anaconda3\\Lib\\site-packages\\IPython\\core\\pylabtools.py:77: DeprecationWarning: backends is deprecated since IPython 8.24, backends are managed in matplotlib and can be externally registered.\n",
      "  warnings.warn(\n"
     ]
    }
   ],
   "source": [
    "import pandas as pd\n",
    "import numpy as np\n",
    "import matplotlib.pyplot as plt\n",
    "import sklearn \n",
    "import seaborn as sns\n",
    "\n",
    "%matplotlib inline"
   ]
  },
  {
   "cell_type": "markdown",
   "id": "a3b525a6-e6a2-4cd9-9f85-a501e97d31a7",
   "metadata": {},
   "source": [
    "# Assosiation Rule Data Mining\n",
    "\n",
    "Association Rule dalam data mining adalah teknik untuk menemukan pola atau hubungan antar item dalam dataset besar. Tujuan utamanya adalah mengidentifikasi item-item yang sering muncul bersama-sama."
   ]
  },
  {
   "cell_type": "markdown",
   "id": "fc538a6e-39a8-496e-b1f7-b27b2054f565",
   "metadata": {},
   "source": [
    "## Prepare Dataset"
   ]
  },
  {
   "cell_type": "code",
   "execution_count": 96,
   "id": "d6099c83-80f9-4f2e-8f9e-f9cb173d3fcf",
   "metadata": {},
   "outputs": [
    {
     "data": {
      "text/html": [
       "<div>\n",
       "<style scoped>\n",
       "    .dataframe tbody tr th:only-of-type {\n",
       "        vertical-align: middle;\n",
       "    }\n",
       "\n",
       "    .dataframe tbody tr th {\n",
       "        vertical-align: top;\n",
       "    }\n",
       "\n",
       "    .dataframe thead th {\n",
       "        text-align: right;\n",
       "    }\n",
       "</style>\n",
       "<table border=\"1\" class=\"dataframe\">\n",
       "  <thead>\n",
       "    <tr style=\"text-align: right;\">\n",
       "      <th></th>\n",
       "      <th>id</th>\n",
       "      <th>gender</th>\n",
       "      <th>age</th>\n",
       "      <th>hypertension</th>\n",
       "      <th>heart_disease</th>\n",
       "      <th>ever_married</th>\n",
       "      <th>work_type</th>\n",
       "      <th>Residence_type</th>\n",
       "      <th>avg_glucose_level</th>\n",
       "      <th>bmi</th>\n",
       "      <th>smoking_status</th>\n",
       "      <th>stroke</th>\n",
       "    </tr>\n",
       "  </thead>\n",
       "  <tbody>\n",
       "    <tr>\n",
       "      <th>0</th>\n",
       "      <td>30669</td>\n",
       "      <td>Male</td>\n",
       "      <td>3.0</td>\n",
       "      <td>0</td>\n",
       "      <td>0</td>\n",
       "      <td>No</td>\n",
       "      <td>children</td>\n",
       "      <td>Rural</td>\n",
       "      <td>95.12</td>\n",
       "      <td>18.0</td>\n",
       "      <td>NaN</td>\n",
       "      <td>0</td>\n",
       "    </tr>\n",
       "    <tr>\n",
       "      <th>1</th>\n",
       "      <td>30468</td>\n",
       "      <td>Male</td>\n",
       "      <td>58.0</td>\n",
       "      <td>1</td>\n",
       "      <td>0</td>\n",
       "      <td>Yes</td>\n",
       "      <td>Private</td>\n",
       "      <td>Urban</td>\n",
       "      <td>87.96</td>\n",
       "      <td>39.2</td>\n",
       "      <td>never smoked</td>\n",
       "      <td>0</td>\n",
       "    </tr>\n",
       "    <tr>\n",
       "      <th>2</th>\n",
       "      <td>16523</td>\n",
       "      <td>Female</td>\n",
       "      <td>8.0</td>\n",
       "      <td>0</td>\n",
       "      <td>0</td>\n",
       "      <td>No</td>\n",
       "      <td>Private</td>\n",
       "      <td>Urban</td>\n",
       "      <td>110.89</td>\n",
       "      <td>17.6</td>\n",
       "      <td>NaN</td>\n",
       "      <td>0</td>\n",
       "    </tr>\n",
       "    <tr>\n",
       "      <th>3</th>\n",
       "      <td>56543</td>\n",
       "      <td>Female</td>\n",
       "      <td>70.0</td>\n",
       "      <td>0</td>\n",
       "      <td>0</td>\n",
       "      <td>Yes</td>\n",
       "      <td>Private</td>\n",
       "      <td>Rural</td>\n",
       "      <td>69.04</td>\n",
       "      <td>35.9</td>\n",
       "      <td>formerly smoked</td>\n",
       "      <td>0</td>\n",
       "    </tr>\n",
       "    <tr>\n",
       "      <th>4</th>\n",
       "      <td>46136</td>\n",
       "      <td>Male</td>\n",
       "      <td>14.0</td>\n",
       "      <td>0</td>\n",
       "      <td>0</td>\n",
       "      <td>No</td>\n",
       "      <td>Never_worked</td>\n",
       "      <td>Rural</td>\n",
       "      <td>161.28</td>\n",
       "      <td>19.1</td>\n",
       "      <td>NaN</td>\n",
       "      <td>0</td>\n",
       "    </tr>\n",
       "  </tbody>\n",
       "</table>\n",
       "</div>"
      ],
      "text/plain": [
       "      id  gender   age  hypertension  heart_disease ever_married  \\\n",
       "0  30669    Male   3.0             0              0           No   \n",
       "1  30468    Male  58.0             1              0          Yes   \n",
       "2  16523  Female   8.0             0              0           No   \n",
       "3  56543  Female  70.0             0              0          Yes   \n",
       "4  46136    Male  14.0             0              0           No   \n",
       "\n",
       "      work_type Residence_type  avg_glucose_level   bmi   smoking_status  \\\n",
       "0      children          Rural              95.12  18.0              NaN   \n",
       "1       Private          Urban              87.96  39.2     never smoked   \n",
       "2       Private          Urban             110.89  17.6              NaN   \n",
       "3       Private          Rural              69.04  35.9  formerly smoked   \n",
       "4  Never_worked          Rural             161.28  19.1              NaN   \n",
       "\n",
       "   stroke  \n",
       "0       0  \n",
       "1       0  \n",
       "2       0  \n",
       "3       0  \n",
       "4       0  "
      ]
     },
     "execution_count": 96,
     "metadata": {},
     "output_type": "execute_result"
    }
   ],
   "source": [
    "df = pd.read_csv(\"dataset.csv\")\n",
    "df.head()"
   ]
  },
  {
   "cell_type": "code",
   "execution_count": 97,
   "id": "4b0d6ebe-5914-42ad-8484-49cbcfe56ad5",
   "metadata": {},
   "outputs": [
    {
     "data": {
      "text/plain": [
       "id                       0\n",
       "gender                   0\n",
       "age                      0\n",
       "hypertension             0\n",
       "heart_disease            0\n",
       "ever_married             0\n",
       "work_type                0\n",
       "Residence_type           0\n",
       "avg_glucose_level        0\n",
       "bmi                   1462\n",
       "smoking_status       13292\n",
       "stroke                   0\n",
       "dtype: int64"
      ]
     },
     "execution_count": 97,
     "metadata": {},
     "output_type": "execute_result"
    }
   ],
   "source": [
    "# Cek missing Value\n",
    "df.isna().sum()"
   ]
  },
  {
   "cell_type": "code",
   "execution_count": 98,
   "id": "d971031c-efdd-404a-b5b4-6b462240a075",
   "metadata": {},
   "outputs": [
    {
     "data": {
      "text/plain": [
       "43400"
      ]
     },
     "execution_count": 98,
     "metadata": {},
     "output_type": "execute_result"
    }
   ],
   "source": [
    "len(df)"
   ]
  },
  {
   "cell_type": "code",
   "execution_count": 99,
   "id": "729bf51f-2b68-4d00-989c-aa6e373f0f24",
   "metadata": {},
   "outputs": [],
   "source": [
    "# hapus baris yang memiliki missing values\n",
    "df.dropna(inplace=True)"
   ]
  },
  {
   "cell_type": "code",
   "execution_count": 100,
   "id": "6fe63823-8eaf-44f9-ae01-80983e5296df",
   "metadata": {},
   "outputs": [
    {
     "data": {
      "text/plain": [
       "id                   0\n",
       "gender               0\n",
       "age                  0\n",
       "hypertension         0\n",
       "heart_disease        0\n",
       "ever_married         0\n",
       "work_type            0\n",
       "Residence_type       0\n",
       "avg_glucose_level    0\n",
       "bmi                  0\n",
       "smoking_status       0\n",
       "stroke               0\n",
       "dtype: int64"
      ]
     },
     "execution_count": 100,
     "metadata": {},
     "output_type": "execute_result"
    }
   ],
   "source": [
    "df.isna().sum()"
   ]
  },
  {
   "cell_type": "code",
   "execution_count": 101,
   "id": "6111676e-5391-4156-a73a-7ed3f063757e",
   "metadata": {},
   "outputs": [
    {
     "data": {
      "text/plain": [
       "id                   29072\n",
       "gender                   3\n",
       "age                     73\n",
       "hypertension             2\n",
       "heart_disease            2\n",
       "ever_married             2\n",
       "work_type                5\n",
       "Residence_type           2\n",
       "avg_glucose_level    11041\n",
       "bmi                    516\n",
       "smoking_status           3\n",
       "stroke                   2\n",
       "dtype: int64"
      ]
     },
     "execution_count": 101,
     "metadata": {},
     "output_type": "execute_result"
    }
   ],
   "source": [
    "# cek unique value tiap kolom\n",
    "df.nunique()"
   ]
  },
  {
   "cell_type": "code",
   "execution_count": 102,
   "id": "2f82b465-057d-4fe3-a565-280e6d171544",
   "metadata": {},
   "outputs": [
    {
     "data": {
      "text/plain": [
       "array(['Male', 'Female', 'Other'], dtype=object)"
      ]
     },
     "execution_count": 102,
     "metadata": {},
     "output_type": "execute_result"
    }
   ],
   "source": [
    "df.gender.unique()"
   ]
  },
  {
   "cell_type": "code",
   "execution_count": 103,
   "id": "43444010-a5f7-49f3-85c1-92d8fc56c94d",
   "metadata": {},
   "outputs": [],
   "source": [
    "# Hanya pilih df yang gender-nya bukan \"Other\"\n",
    "df = df.loc[df['gender'] != 'Other']"
   ]
  },
  {
   "cell_type": "code",
   "execution_count": 104,
   "id": "82e5a276-7607-47d4-9cc9-a581e39520df",
   "metadata": {},
   "outputs": [
    {
     "data": {
      "text/plain": [
       "array(['Male', 'Female'], dtype=object)"
      ]
     },
     "execution_count": 104,
     "metadata": {},
     "output_type": "execute_result"
    }
   ],
   "source": [
    "df.gender.unique()"
   ]
  },
  {
   "cell_type": "code",
   "execution_count": 105,
   "id": "3fec3e6a-17bd-41b2-8606-45d31379a063",
   "metadata": {},
   "outputs": [
    {
     "data": {
      "text/plain": [
       "['gender',\n",
       " 'hypertension',\n",
       " 'heart_disease',\n",
       " 'ever_married',\n",
       " 'Residence_type',\n",
       " 'smoking_status',\n",
       " 'stroke']"
      ]
     },
     "execution_count": 105,
     "metadata": {},
     "output_type": "execute_result"
    }
   ],
   "source": [
    "# Melihat kolom dengan jumlah nilai unik <= 3\n",
    "columns_few_unique = [col for col in df.columns if df[col].nunique() <= 3]\n",
    "\n",
    "columns_few_unique"
   ]
  },
  {
   "cell_type": "code",
   "execution_count": 106,
   "id": "18199ac6-1b36-4559-9ca0-bfbb8f8cd915",
   "metadata": {},
   "outputs": [
    {
     "data": {
      "text/html": [
       "<div>\n",
       "<style scoped>\n",
       "    .dataframe tbody tr th:only-of-type {\n",
       "        vertical-align: middle;\n",
       "    }\n",
       "\n",
       "    .dataframe tbody tr th {\n",
       "        vertical-align: top;\n",
       "    }\n",
       "\n",
       "    .dataframe thead th {\n",
       "        text-align: right;\n",
       "    }\n",
       "</style>\n",
       "<table border=\"1\" class=\"dataframe\">\n",
       "  <thead>\n",
       "    <tr style=\"text-align: right;\">\n",
       "      <th></th>\n",
       "      <th>gender</th>\n",
       "      <th>hypertension</th>\n",
       "      <th>heart_disease</th>\n",
       "      <th>ever_married</th>\n",
       "      <th>Residence_type</th>\n",
       "      <th>smoking_status</th>\n",
       "      <th>stroke</th>\n",
       "    </tr>\n",
       "  </thead>\n",
       "  <tbody>\n",
       "    <tr>\n",
       "      <th>1</th>\n",
       "      <td>Male</td>\n",
       "      <td>1</td>\n",
       "      <td>0</td>\n",
       "      <td>Yes</td>\n",
       "      <td>Urban</td>\n",
       "      <td>never smoked</td>\n",
       "      <td>0</td>\n",
       "    </tr>\n",
       "    <tr>\n",
       "      <th>3</th>\n",
       "      <td>Female</td>\n",
       "      <td>0</td>\n",
       "      <td>0</td>\n",
       "      <td>Yes</td>\n",
       "      <td>Rural</td>\n",
       "      <td>formerly smoked</td>\n",
       "      <td>0</td>\n",
       "    </tr>\n",
       "    <tr>\n",
       "      <th>6</th>\n",
       "      <td>Female</td>\n",
       "      <td>0</td>\n",
       "      <td>0</td>\n",
       "      <td>Yes</td>\n",
       "      <td>Urban</td>\n",
       "      <td>formerly smoked</td>\n",
       "      <td>0</td>\n",
       "    </tr>\n",
       "    <tr>\n",
       "      <th>7</th>\n",
       "      <td>Female</td>\n",
       "      <td>0</td>\n",
       "      <td>1</td>\n",
       "      <td>Yes</td>\n",
       "      <td>Rural</td>\n",
       "      <td>never smoked</td>\n",
       "      <td>0</td>\n",
       "    </tr>\n",
       "    <tr>\n",
       "      <th>8</th>\n",
       "      <td>Female</td>\n",
       "      <td>0</td>\n",
       "      <td>0</td>\n",
       "      <td>Yes</td>\n",
       "      <td>Rural</td>\n",
       "      <td>smokes</td>\n",
       "      <td>0</td>\n",
       "    </tr>\n",
       "  </tbody>\n",
       "</table>\n",
       "</div>"
      ],
      "text/plain": [
       "   gender  hypertension  heart_disease ever_married Residence_type  \\\n",
       "1    Male             1              0          Yes          Urban   \n",
       "3  Female             0              0          Yes          Rural   \n",
       "6  Female             0              0          Yes          Urban   \n",
       "7  Female             0              1          Yes          Rural   \n",
       "8  Female             0              0          Yes          Rural   \n",
       "\n",
       "    smoking_status  stroke  \n",
       "1     never smoked       0  \n",
       "3  formerly smoked       0  \n",
       "6  formerly smoked       0  \n",
       "7     never smoked       0  \n",
       "8           smokes       0  "
      ]
     },
     "execution_count": 106,
     "metadata": {},
     "output_type": "execute_result"
    }
   ],
   "source": [
    "# Membuat data baru dari fitur yang sudah diseleksi\n",
    "df_select = df[columns_few_unique]\n",
    "df_select.head()"
   ]
  },
  {
   "cell_type": "markdown",
   "id": "ab6bfe6b-c468-4268-81b2-4904e9c20bb4",
   "metadata": {},
   "source": [
    "## Preprocessing"
   ]
  },
  {
   "cell_type": "code",
   "execution_count": 108,
   "id": "5d756f7a-a416-4f19-8c1a-2b90704a4ad4",
   "metadata": {},
   "outputs": [
    {
     "data": {
      "text/html": [
       "<div>\n",
       "<style scoped>\n",
       "    .dataframe tbody tr th:only-of-type {\n",
       "        vertical-align: middle;\n",
       "    }\n",
       "\n",
       "    .dataframe tbody tr th {\n",
       "        vertical-align: top;\n",
       "    }\n",
       "\n",
       "    .dataframe thead th {\n",
       "        text-align: right;\n",
       "    }\n",
       "</style>\n",
       "<table border=\"1\" class=\"dataframe\">\n",
       "  <thead>\n",
       "    <tr style=\"text-align: right;\">\n",
       "      <th></th>\n",
       "      <th>gender</th>\n",
       "      <th>hypertension</th>\n",
       "      <th>heart_disease</th>\n",
       "      <th>ever_married</th>\n",
       "      <th>Residence_type</th>\n",
       "      <th>smoking_status</th>\n",
       "      <th>stroke</th>\n",
       "    </tr>\n",
       "  </thead>\n",
       "  <tbody>\n",
       "    <tr>\n",
       "      <th>1</th>\n",
       "      <td>1</td>\n",
       "      <td>1</td>\n",
       "      <td>0</td>\n",
       "      <td>1</td>\n",
       "      <td>1</td>\n",
       "      <td>never smoked</td>\n",
       "      <td>0</td>\n",
       "    </tr>\n",
       "    <tr>\n",
       "      <th>3</th>\n",
       "      <td>0</td>\n",
       "      <td>0</td>\n",
       "      <td>0</td>\n",
       "      <td>1</td>\n",
       "      <td>0</td>\n",
       "      <td>formerly smoked</td>\n",
       "      <td>0</td>\n",
       "    </tr>\n",
       "    <tr>\n",
       "      <th>6</th>\n",
       "      <td>0</td>\n",
       "      <td>0</td>\n",
       "      <td>0</td>\n",
       "      <td>1</td>\n",
       "      <td>1</td>\n",
       "      <td>formerly smoked</td>\n",
       "      <td>0</td>\n",
       "    </tr>\n",
       "    <tr>\n",
       "      <th>7</th>\n",
       "      <td>0</td>\n",
       "      <td>0</td>\n",
       "      <td>1</td>\n",
       "      <td>1</td>\n",
       "      <td>0</td>\n",
       "      <td>never smoked</td>\n",
       "      <td>0</td>\n",
       "    </tr>\n",
       "    <tr>\n",
       "      <th>8</th>\n",
       "      <td>0</td>\n",
       "      <td>0</td>\n",
       "      <td>0</td>\n",
       "      <td>1</td>\n",
       "      <td>0</td>\n",
       "      <td>smokes</td>\n",
       "      <td>0</td>\n",
       "    </tr>\n",
       "  </tbody>\n",
       "</table>\n",
       "</div>"
      ],
      "text/plain": [
       "   gender  hypertension  heart_disease  ever_married  Residence_type  \\\n",
       "1       1             1              0             1               1   \n",
       "3       0             0              0             1               0   \n",
       "6       0             0              0             1               1   \n",
       "7       0             0              1             1               0   \n",
       "8       0             0              0             1               0   \n",
       "\n",
       "    smoking_status  stroke  \n",
       "1     never smoked       0  \n",
       "3  formerly smoked       0  \n",
       "6  formerly smoked       0  \n",
       "7     never smoked       0  \n",
       "8           smokes       0  "
      ]
     },
     "execution_count": 108,
     "metadata": {},
     "output_type": "execute_result"
    }
   ],
   "source": [
    "# Buat salinan penuh dari df_select\n",
    "df_select = df_select.copy()\n",
    "\n",
    "# Lakukan encoding pada salinan\n",
    "df_select['gender'] = label_encoder.fit_transform(df_select['gender'])\n",
    "df_select['ever_married'] = label_encoder.fit_transform(df_select['ever_married'])\n",
    "df_select['Residence_type'] = label_encoder.fit_transform(df_select['Residence_type'])\n",
    "\n",
    "# Tampilkan hasil encoding\n",
    "df_select.head()"
   ]
  },
  {
   "cell_type": "code",
   "execution_count": 109,
   "id": "c018851b-893b-4fe3-86f9-a251a7447831",
   "metadata": {},
   "outputs": [],
   "source": [
    "df_select.drop('smoking_status', axis=1, inplace=True)"
   ]
  },
  {
   "cell_type": "markdown",
   "id": "751309ae-d3c7-471a-bd5e-a4d527fc322c",
   "metadata": {},
   "source": [
    "## Eksekusi assosiation rule"
   ]
  },
  {
   "cell_type": "markdown",
   "id": "fa478d56-df3a-499f-b202-434abf8a5f72",
   "metadata": {},
   "source": [
    "Kita akan menggunakan `Apriori` unutk melakukan assosiation rule pada dataset yang sudah kita olah di atas"
   ]
  },
  {
   "cell_type": "markdown",
   "id": "1d6b308e-3e51-4dc4-a08d-e86c12400893",
   "metadata": {},
   "source": [
    "**Siapkan Tools yang kita butuhkan**"
   ]
  },
  {
   "cell_type": "code",
   "execution_count": 110,
   "id": "bab84f64-b2a1-4acd-b833-7115b449d585",
   "metadata": {},
   "outputs": [
    {
     "name": "stdout",
     "output_type": "stream",
     "text": [
      "Requirement already satisfied: mlxtend in c:\\users\\lenovo\\anaconda3\\lib\\site-packages (0.23.1)\n",
      "Requirement already satisfied: scipy>=1.2.1 in c:\\users\\lenovo\\anaconda3\\lib\\site-packages (from mlxtend) (1.13.1)\n",
      "Requirement already satisfied: numpy>=1.16.2 in c:\\users\\lenovo\\anaconda3\\lib\\site-packages (from mlxtend) (1.26.4)\n",
      "Requirement already satisfied: pandas>=0.24.2 in c:\\users\\lenovo\\anaconda3\\lib\\site-packages (from mlxtend) (2.2.2)\n",
      "Requirement already satisfied: scikit-learn>=1.0.2 in c:\\users\\lenovo\\anaconda3\\lib\\site-packages (from mlxtend) (1.5.2)\n",
      "Requirement already satisfied: matplotlib>=3.0.0 in c:\\users\\lenovo\\anaconda3\\lib\\site-packages (from mlxtend) (3.8.4)\n",
      "Requirement already satisfied: joblib>=0.13.2 in c:\\users\\lenovo\\anaconda3\\lib\\site-packages (from mlxtend) (1.4.2)\n",
      "Requirement already satisfied: contourpy>=1.0.1 in c:\\users\\lenovo\\anaconda3\\lib\\site-packages (from matplotlib>=3.0.0->mlxtend) (1.2.0)\n",
      "Requirement already satisfied: cycler>=0.10 in c:\\users\\lenovo\\anaconda3\\lib\\site-packages (from matplotlib>=3.0.0->mlxtend) (0.11.0)\n",
      "Requirement already satisfied: fonttools>=4.22.0 in c:\\users\\lenovo\\anaconda3\\lib\\site-packages (from matplotlib>=3.0.0->mlxtend) (4.51.0)\n",
      "Requirement already satisfied: kiwisolver>=1.3.1 in c:\\users\\lenovo\\anaconda3\\lib\\site-packages (from matplotlib>=3.0.0->mlxtend) (1.4.4)\n",
      "Requirement already satisfied: packaging>=20.0 in c:\\users\\lenovo\\anaconda3\\lib\\site-packages (from matplotlib>=3.0.0->mlxtend) (23.2)\n",
      "Requirement already satisfied: pillow>=8 in c:\\users\\lenovo\\anaconda3\\lib\\site-packages (from matplotlib>=3.0.0->mlxtend) (10.3.0)\n",
      "Requirement already satisfied: pyparsing>=2.3.1 in c:\\users\\lenovo\\anaconda3\\lib\\site-packages (from matplotlib>=3.0.0->mlxtend) (3.0.9)\n",
      "Requirement already satisfied: python-dateutil>=2.7 in c:\\users\\lenovo\\anaconda3\\lib\\site-packages (from matplotlib>=3.0.0->mlxtend) (2.9.0.post0)\n",
      "Requirement already satisfied: pytz>=2020.1 in c:\\users\\lenovo\\anaconda3\\lib\\site-packages (from pandas>=0.24.2->mlxtend) (2024.1)\n",
      "Requirement already satisfied: tzdata>=2022.7 in c:\\users\\lenovo\\anaconda3\\lib\\site-packages (from pandas>=0.24.2->mlxtend) (2023.3)\n",
      "Requirement already satisfied: threadpoolctl>=3.1.0 in c:\\users\\lenovo\\anaconda3\\lib\\site-packages (from scikit-learn>=1.0.2->mlxtend) (3.5.0)\n",
      "Requirement already satisfied: six>=1.5 in c:\\users\\lenovo\\anaconda3\\lib\\site-packages (from python-dateutil>=2.7->matplotlib>=3.0.0->mlxtend) (1.16.0)\n"
     ]
    }
   ],
   "source": [
    "!pip install mlxtend"
   ]
  },
  {
   "cell_type": "markdown",
   "id": "41cd51f2-defe-4c2a-bd87-88caba2d85c8",
   "metadata": {},
   "source": [
    "### Apa itu apriori?\n",
    "\n",
    "Apriori adalah algoritma yang digunakan dalam data mining untuk menemukan pola atau asosiasi dalam dataset, terutama dalam analisis keranjang belanja. Algoritma ini bekerja dengan cara mencari item-item yang sering muncul bersama dalam transaksi.\n",
    "\n",
    "Proses kerjanya melibatkan dua langkah utama:\n",
    "\n",
    "- **Menemukan Frequent Itemsets:** Algoritma ini mengidentifikasi itemsets yang muncul dalam transaksi lebih dari jumlah minimum yang ditentukan (support).\n",
    "\n",
    "- **Menentukan Aturan Asosiasi:** Setelah menemukan itemsets yang sering muncul, algoritma ini membuat aturan asosiasi (misalnya, \"Jika produk A dibeli, maka produk B juga cenderung dibeli\") dengan menghitung nilai kepercayaan (confidence) dari setiap aturan.\n",
    "\n",
    "Kelebihan dari algoritma Apriori adalah kemampuannya untuk menangani dataset besar dan kompleks. Namun, algoritma ini juga memiliki kekurangan, seperti kinerja yang lambat pada dataset yang sangat besar."
   ]
  },
  {
   "cell_type": "code",
   "execution_count": 133,
   "id": "759aee1d-f653-47f7-90cb-f9c5183b63f7",
   "metadata": {},
   "outputs": [
    {
     "data": {
      "text/html": [
       "<div>\n",
       "<style scoped>\n",
       "    .dataframe tbody tr th:only-of-type {\n",
       "        vertical-align: middle;\n",
       "    }\n",
       "\n",
       "    .dataframe tbody tr th {\n",
       "        vertical-align: top;\n",
       "    }\n",
       "\n",
       "    .dataframe thead th {\n",
       "        text-align: right;\n",
       "    }\n",
       "</style>\n",
       "<table border=\"1\" class=\"dataframe\">\n",
       "  <thead>\n",
       "    <tr style=\"text-align: right;\">\n",
       "      <th></th>\n",
       "      <th>gender</th>\n",
       "      <th>hypertension</th>\n",
       "      <th>heart_disease</th>\n",
       "      <th>ever_married</th>\n",
       "      <th>Residence_type</th>\n",
       "      <th>stroke</th>\n",
       "    </tr>\n",
       "  </thead>\n",
       "  <tbody>\n",
       "    <tr>\n",
       "      <th>1</th>\n",
       "      <td>True</td>\n",
       "      <td>True</td>\n",
       "      <td>False</td>\n",
       "      <td>True</td>\n",
       "      <td>True</td>\n",
       "      <td>False</td>\n",
       "    </tr>\n",
       "    <tr>\n",
       "      <th>3</th>\n",
       "      <td>False</td>\n",
       "      <td>False</td>\n",
       "      <td>False</td>\n",
       "      <td>True</td>\n",
       "      <td>False</td>\n",
       "      <td>False</td>\n",
       "    </tr>\n",
       "    <tr>\n",
       "      <th>6</th>\n",
       "      <td>False</td>\n",
       "      <td>False</td>\n",
       "      <td>False</td>\n",
       "      <td>True</td>\n",
       "      <td>True</td>\n",
       "      <td>False</td>\n",
       "    </tr>\n",
       "    <tr>\n",
       "      <th>7</th>\n",
       "      <td>False</td>\n",
       "      <td>False</td>\n",
       "      <td>True</td>\n",
       "      <td>True</td>\n",
       "      <td>False</td>\n",
       "      <td>False</td>\n",
       "    </tr>\n",
       "    <tr>\n",
       "      <th>8</th>\n",
       "      <td>False</td>\n",
       "      <td>False</td>\n",
       "      <td>False</td>\n",
       "      <td>True</td>\n",
       "      <td>False</td>\n",
       "      <td>False</td>\n",
       "    </tr>\n",
       "  </tbody>\n",
       "</table>\n",
       "</div>"
      ],
      "text/plain": [
       "   gender  hypertension  heart_disease  ever_married  Residence_type  stroke\n",
       "1    True          True          False          True            True   False\n",
       "3   False         False          False          True           False   False\n",
       "6   False         False          False          True            True   False\n",
       "7   False         False           True          True           False   False\n",
       "8   False         False          False          True           False   False"
      ]
     },
     "execution_count": 133,
     "metadata": {},
     "output_type": "execute_result"
    }
   ],
   "source": [
    "from mlxtend.frequent_patterns import apriori, association_rules\n",
    "import pandas as pd\n",
    "\n",
    "# Pastikan nilai lebih dari 0 menjadi True, yang lain menjadi False\n",
    "df_association = df_select > 0\n",
    "\n",
    "df_association.head()"
   ]
  },
  {
   "cell_type": "code",
   "execution_count": 151,
   "id": "7da9f85a-5527-4967-bac8-f5f3d7dc2279",
   "metadata": {},
   "outputs": [],
   "source": [
    "# Menerapkan algoritma Apriori untuk menemukan frequent itemsets\n",
    "frequent_itemsets = apriori(df_association, min_support=0.1, use_colnames=True)\n",
    "\n",
    "# Menemukan association rules\n",
    "rules = association_rules(frequent_itemsets, metric=\"confidence\", min_threshold=0.6)"
   ]
  },
  {
   "cell_type": "code",
   "execution_count": 153,
   "id": "d19d665b-46c9-48a0-8798-48f83a7913d7",
   "metadata": {},
   "outputs": [
    {
     "name": "stdout",
     "output_type": "stream",
     "text": [
      "Frequent Itemsets:\n"
     ]
    },
    {
     "data": {
      "text/html": [
       "<div>\n",
       "<style scoped>\n",
       "    .dataframe tbody tr th:only-of-type {\n",
       "        vertical-align: middle;\n",
       "    }\n",
       "\n",
       "    .dataframe tbody tr th {\n",
       "        vertical-align: top;\n",
       "    }\n",
       "\n",
       "    .dataframe thead th {\n",
       "        text-align: right;\n",
       "    }\n",
       "</style>\n",
       "<table border=\"1\" class=\"dataframe\">\n",
       "  <thead>\n",
       "    <tr style=\"text-align: right;\">\n",
       "      <th></th>\n",
       "      <th>support</th>\n",
       "      <th>itemsets</th>\n",
       "    </tr>\n",
       "  </thead>\n",
       "  <tbody>\n",
       "    <tr>\n",
       "      <th>0</th>\n",
       "      <td>0.385790</td>\n",
       "      <td>(gender)</td>\n",
       "    </tr>\n",
       "    <tr>\n",
       "      <th>1</th>\n",
       "      <td>0.111509</td>\n",
       "      <td>(hypertension)</td>\n",
       "    </tr>\n",
       "    <tr>\n",
       "      <th>2</th>\n",
       "      <td>0.746155</td>\n",
       "      <td>(ever_married)</td>\n",
       "    </tr>\n",
       "    <tr>\n",
       "      <th>3</th>\n",
       "      <td>0.502047</td>\n",
       "      <td>(Residence_type)</td>\n",
       "    </tr>\n",
       "    <tr>\n",
       "      <th>4</th>\n",
       "      <td>0.293136</td>\n",
       "      <td>(ever_married, gender)</td>\n",
       "    </tr>\n",
       "    <tr>\n",
       "      <th>5</th>\n",
       "      <td>0.195252</td>\n",
       "      <td>(gender, Residence_type)</td>\n",
       "    </tr>\n",
       "    <tr>\n",
       "      <th>6</th>\n",
       "      <td>0.101118</td>\n",
       "      <td>(ever_married, hypertension)</td>\n",
       "    </tr>\n",
       "    <tr>\n",
       "      <th>7</th>\n",
       "      <td>0.375675</td>\n",
       "      <td>(ever_married, Residence_type)</td>\n",
       "    </tr>\n",
       "    <tr>\n",
       "      <th>8</th>\n",
       "      <td>0.148185</td>\n",
       "      <td>(ever_married, gender, Residence_type)</td>\n",
       "    </tr>\n",
       "  </tbody>\n",
       "</table>\n",
       "</div>"
      ],
      "text/plain": [
       "    support                                itemsets\n",
       "0  0.385790                                (gender)\n",
       "1  0.111509                          (hypertension)\n",
       "2  0.746155                          (ever_married)\n",
       "3  0.502047                        (Residence_type)\n",
       "4  0.293136                  (ever_married, gender)\n",
       "5  0.195252                (gender, Residence_type)\n",
       "6  0.101118            (ever_married, hypertension)\n",
       "7  0.375675          (ever_married, Residence_type)\n",
       "8  0.148185  (ever_married, gender, Residence_type)"
      ]
     },
     "execution_count": 153,
     "metadata": {},
     "output_type": "execute_result"
    }
   ],
   "source": [
    "print(\"Frequent Itemsets:\")\n",
    "frequent_itemsets"
   ]
  },
  {
   "cell_type": "markdown",
   "id": "99b1ceb2-f4a0-4509-8bed-fcc106ac42c1",
   "metadata": {},
   "source": [
    "# Analisis pada kolom `Frequent Itemsets`"
   ]
  },
  {
   "cell_type": "markdown",
   "id": "d17069a5-2b93-4d5c-8eb4-123b5b306aca",
   "metadata": {},
   "source": [
    "**Frekuensi Kemunculan Fitur Tunggal:**\n",
    "\n",
    "- ever_married (pernah menikah) adalah fitur yang paling sering muncul, dengan nilai support sebesar 0.746. Artinya, sekitar 74.6% dari data adalah individu yang pernah menikah.\n",
    "\n",
    "- Residence_type (tipe tempat tinggal) memiliki nilai support sebesar 0.502, menunjukkan bahwa sekitar 50.2% data adalah individu dengan tipe tempat tinggal tertentu (misalnya, Rural atau Urban).\n",
    "\n",
    "- gender memiliki support sebesar 0.385, artinya sekitar 38.5% data memiliki jenis kelamin tertentu.\n",
    "\n",
    "\n",
    "**Frekuensi Kemunculan Kombinasi Fitur (Itemsets):**\n",
    "\n",
    "- Kombinasi (ever_married, gender) memiliki nilai support 0.293, yang berarti sekitar 29.3% data adalah individu yang pernah menikah dengan jenis kelamin tertentu.\n",
    "\n",
    "- Kombinasi (gender, Residence_type) memiliki nilai support 0.195, menunjukkan bahwa sekitar 19.5% data adalah individu dengan jenis kelamin tertentu dan tipe tempat tinggal tertentu.\n",
    "\n",
    "- Kombinasi (ever_married, Residence_type) memiliki nilai support 0.376, artinya 37.6% dari data terdiri dari individu yang pernah menikah dan memiliki tipe tempat tinggal tertentu.\n",
    "\n",
    "- Kombinasi (ever_married, gender, Residence_type) memiliki support 0.148, yang menunjukkan bahwa 14.8% dari data adalah individu dengan ketiga karakteristik ini (pernah menikah, memiliki jenis kelamin tertentu, dan tipe tempat tinggal tertentu)."
   ]
  },
  {
   "cell_type": "code",
   "execution_count": 163,
   "id": "afd62a34-d093-496c-93f3-ae71b9b1f2e1",
   "metadata": {},
   "outputs": [
    {
     "name": "stdout",
     "output_type": "stream",
     "text": [
      "Association Rules:\n"
     ]
    },
    {
     "data": {
      "text/html": [
       "<div>\n",
       "<style scoped>\n",
       "    .dataframe tbody tr th:only-of-type {\n",
       "        vertical-align: middle;\n",
       "    }\n",
       "\n",
       "    .dataframe tbody tr th {\n",
       "        vertical-align: top;\n",
       "    }\n",
       "\n",
       "    .dataframe thead th {\n",
       "        text-align: right;\n",
       "    }\n",
       "</style>\n",
       "<table border=\"1\" class=\"dataframe\">\n",
       "  <thead>\n",
       "    <tr style=\"text-align: right;\">\n",
       "      <th></th>\n",
       "      <th>antecedents</th>\n",
       "      <th>consequents</th>\n",
       "      <th>antecedent support</th>\n",
       "      <th>consequent support</th>\n",
       "      <th>support</th>\n",
       "      <th>confidence</th>\n",
       "      <th>lift</th>\n",
       "      <th>leverage</th>\n",
       "      <th>conviction</th>\n",
       "      <th>zhangs_metric</th>\n",
       "    </tr>\n",
       "  </thead>\n",
       "  <tbody>\n",
       "    <tr>\n",
       "      <th>0</th>\n",
       "      <td>(gender)</td>\n",
       "      <td>(ever_married)</td>\n",
       "      <td>0.385790</td>\n",
       "      <td>0.746155</td>\n",
       "      <td>0.293136</td>\n",
       "      <td>0.759832</td>\n",
       "      <td>1.018330</td>\n",
       "      <td>0.005277</td>\n",
       "      <td>1.056948</td>\n",
       "      <td>0.029306</td>\n",
       "    </tr>\n",
       "    <tr>\n",
       "      <th>1</th>\n",
       "      <td>(hypertension)</td>\n",
       "      <td>(ever_married)</td>\n",
       "      <td>0.111509</td>\n",
       "      <td>0.746155</td>\n",
       "      <td>0.101118</td>\n",
       "      <td>0.906819</td>\n",
       "      <td>1.215322</td>\n",
       "      <td>0.017915</td>\n",
       "      <td>2.724209</td>\n",
       "      <td>0.199409</td>\n",
       "    </tr>\n",
       "    <tr>\n",
       "      <th>2</th>\n",
       "      <td>(Residence_type)</td>\n",
       "      <td>(ever_married)</td>\n",
       "      <td>0.502047</td>\n",
       "      <td>0.746155</td>\n",
       "      <td>0.375675</td>\n",
       "      <td>0.748287</td>\n",
       "      <td>1.002857</td>\n",
       "      <td>0.001070</td>\n",
       "      <td>1.008468</td>\n",
       "      <td>0.005721</td>\n",
       "    </tr>\n",
       "    <tr>\n",
       "      <th>3</th>\n",
       "      <td>(gender, Residence_type)</td>\n",
       "      <td>(ever_married)</td>\n",
       "      <td>0.195252</td>\n",
       "      <td>0.746155</td>\n",
       "      <td>0.148185</td>\n",
       "      <td>0.758943</td>\n",
       "      <td>1.017138</td>\n",
       "      <td>0.002497</td>\n",
       "      <td>1.053048</td>\n",
       "      <td>0.020937</td>\n",
       "    </tr>\n",
       "  </tbody>\n",
       "</table>\n",
       "</div>"
      ],
      "text/plain": [
       "                antecedents     consequents  antecedent support  \\\n",
       "0                  (gender)  (ever_married)            0.385790   \n",
       "1            (hypertension)  (ever_married)            0.111509   \n",
       "2          (Residence_type)  (ever_married)            0.502047   \n",
       "3  (gender, Residence_type)  (ever_married)            0.195252   \n",
       "\n",
       "   consequent support   support  confidence      lift  leverage  conviction  \\\n",
       "0            0.746155  0.293136    0.759832  1.018330  0.005277    1.056948   \n",
       "1            0.746155  0.101118    0.906819  1.215322  0.017915    2.724209   \n",
       "2            0.746155  0.375675    0.748287  1.002857  0.001070    1.008468   \n",
       "3            0.746155  0.148185    0.758943  1.017138  0.002497    1.053048   \n",
       "\n",
       "   zhangs_metric  \n",
       "0       0.029306  \n",
       "1       0.199409  \n",
       "2       0.005721  \n",
       "3       0.020937  "
      ]
     },
     "execution_count": 163,
     "metadata": {},
     "output_type": "execute_result"
    }
   ],
   "source": [
    "print(\"Association Rules:\")\n",
    "rules"
   ]
  },
  {
   "cell_type": "markdown",
   "id": "1e4e1395-33a1-4ceb-b311-5db0670deaa8",
   "metadata": {},
   "source": [
    "# Analisis pada `rules`"
   ]
  },
  {
   "cell_type": "markdown",
   "id": "49581f3f-2f20-4a70-b7ce-3f413cd884bb",
   "metadata": {},
   "source": [
    "Ambil contoh analisis pada : (gender, Residence_type) -> (ever_married)\n",
    "\n",
    "- `Support: 0.148185`, yang berarti sekitar `14.8%` dari data memiliki kombinasi `gender`, `Residence_type`, dan `ever_married`.\n",
    "\n",
    "- `Confidence: 0.758943`, menunjukkan bahwa ada peluang sekitar `75.89%` bahwa individu dengan kombinasi `gender` dan `Residence_type` tertentu juga `ever_married`.\n",
    "\n",
    "- `Lift: 1.017138`, yang menunjukkan bahwa hubungan antara kombinasi `gender` dan `Residence_type` terhadap status `ever_married` juga lemah.\n",
    "\n",
    "Kesimpulan: Kombinasi `gender` dan `Residence_type` tidak memiliki korelasi kuat dengan status `ever_married`."
   ]
  },
  {
   "cell_type": "markdown",
   "id": "30fd2cc1-8c76-4c04-b57c-5d3f2deb7c11",
   "metadata": {},
   "source": [
    "# Terimakasih"
   ]
  }
 ],
 "metadata": {
  "kernelspec": {
   "display_name": "Python 3 (ipykernel)",
   "language": "python",
   "name": "python3"
  },
  "language_info": {
   "codemirror_mode": {
    "name": "ipython",
    "version": 3
   },
   "file_extension": ".py",
   "mimetype": "text/x-python",
   "name": "python",
   "nbconvert_exporter": "python",
   "pygments_lexer": "ipython3",
   "version": "3.12.4"
  }
 },
 "nbformat": 4,
 "nbformat_minor": 5
}
